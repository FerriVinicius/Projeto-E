{
  "cells": [
    {
      "cell_type": "code",
      "execution_count": null,
      "metadata": {
        "id": "hiQBi1TEYtxn",
        "outputId": "bbf3489e-8ad9-4b31-cf7a-b3adcf1300ba"
      },
      "outputs": [
        {
          "name": "stderr",
          "output_type": "stream",
          "text": [
            "C:\\Users\\Vinicius\\AppData\\Local\\Packages\\PythonSoftwareFoundation.Python.3.11_qbz5n2kfra8p0\\LocalCache\\local-packages\\Python311\\site-packages\\fuzzywuzzy\\fuzz.py:11: UserWarning: Using slow pure-python SequenceMatcher. Install python-Levenshtein to remove this warning\n",
            "  warnings.warn('Using slow pure-python SequenceMatcher. Install python-Levenshtein to remove this warning')\n"
          ]
        }
      ],
      "source": [
        "import pandas as pd\n",
        "import numpy as np\n",
        "import matplotlib.pylab as plt\n",
        "import matplotlib.ticker as ticker\n",
        "import seaborn as sns\n",
        "import swifter\n",
        "from thefuzz import fuzz\n",
        "from thefuzz import process\n",
        "plt.style.use('ggplot')"
      ]
    },
    {
      "cell_type": "code",
      "execution_count": null,
      "metadata": {
        "id": "BatsWrNaYtxo"
      },
      "outputs": [],
      "source": [
        "#CARREGANDO DATASETS IMPORTANTES PARA AS ANÁLISES\n",
        "df = pd.read_csv(\"https://raw.githubusercontent.com/FerriVinicius/Projeto-E/refs/heads/main/PRESCRIPTIONS.csv\")\n",
        "df2 = pd.read_csv(\"https://raw.githubusercontent.com/FerriVinicius/Projeto-E/refs/heads/main/ADMISSIONS.csv\")"
      ]
    },
    {
      "cell_type": "code",
      "execution_count": null,
      "metadata": {
        "colab": {
          "base_uri": "https://localhost:8080/"
        },
        "id": "GhsCKnJBYtxp",
        "outputId": "bd685fd3-9be7-4ce1-d561-a332dac6f708"
      },
      "outputs": [
        {
          "name": "stdout",
          "output_type": "stream",
          "text": [
            "\"subject_id\"\n",
            "\"hadm_id\"\n",
            "\"drug\"\n",
            "\"drug_name_poe\"\n",
            "\"drug_name_generic\"\n",
            "\"formulary_drug_cd\"\n",
            "\"gsn\"\n",
            "\"ndc\"\n"
          ]
        }
      ],
      "source": [
        "#CHECANDO AS COLUNAS PRESENTES NO DATASET PRINCIPAL\n",
        "for col in df.columns:\n",
        "    print(f'\"{col}\"')"
      ]
    },
    {
      "cell_type": "code",
      "execution_count": null,
      "metadata": {
        "id": "cH5PQO2tYtxq"
      },
      "outputs": [],
      "source": [
        "#FILTRANDO AS COLUNAS IMPORTANTES PARA ANÁLISES\n",
        "df = df[[#'row_id',\n",
        "            'subject_id',\n",
        "            'hadm_id', #'icustay_id',\n",
        "            #'startdate', 'enddate',\n",
        "            #'drug_type',\n",
        "            'drug', 'drug_name_poe', 'drug_name_generic',\n",
        "            'formulary_drug_cd',\n",
        "            'gsn', 'ndc',\n",
        "            #'prod_strength', 'dose_val_rx',\n",
        "            #'dose_unit_rx', 'form_val_disp', 'form_unit_disp',\n",
        "            #'route'\n",
        "            ]].copy()\n",
        "\n",
        "df2 = df2[[#'row_id',\n",
        "            'subject_id', #'hadm_id', #'admittime', 'dischtime',\n",
        "            'deathtime', #'admission_type', #'admission_location',\n",
        "            #'discharge_location', 'insurance', 'language', 'religion',\n",
        "            #'marital_status', 'ethnicity', 'edregtime', 'edouttime', 'diagnosis',\n",
        "            #'hospital_expire_flag', 'has_chartevents_data'\n",
        "            ]].copy()"
      ]
    },
    {
      "cell_type": "code",
      "execution_count": null,
      "metadata": {
        "id": "zboSNgG0bhSC",
        "outputId": "7d7852d4-b57f-48b9-bf12-0d67f1f4bd48"
      },
      "outputs": [
        {
          "name": "stdout",
          "output_type": "stream",
          "text": [
            "Index(['subject_id', 'hadm_id', 'drug', 'drug_name_poe', 'drug_name_generic',\n",
            "       'formulary_drug_cd', 'gsn', 'ndc'],\n",
            "      dtype='object')\n"
          ]
        }
      ],
      "source": [
        "print(df.columns)\n"
      ]
    },
    {
      "cell_type": "code",
      "execution_count": null,
      "metadata": {
        "id": "6Bmm_FfzYtxr"
      },
      "outputs": [],
      "source": [
        "#RENOMEANDO COLUNAS PARA MELHOR VISUALIZAÇÃO\n",
        "df = df.rename(columns={'subject_id':\"ID_Patient\",\n",
        "                            'hadm_id':'ID_medical_record',\n",
        "                            'drug':'Popular_drug_name',\n",
        "                            'drug_name_poe':'Commercial_drug_name',\n",
        "                            'drug_name_generic':'Generic_drug_name',\n",
        "                            'formulary_drug_cd':'Drug_code',\n",
        "                            'gsn':'gsn',\n",
        "                            'ndc':'ndc'\n",
        "                            })"
      ]
    },
    {
      "cell_type": "code",
      "execution_count": null,
      "metadata": {
        "colab": {
          "base_uri": "https://localhost:8080/",
          "height": 447
        },
        "id": "l3ynAVurYtxs",
        "outputId": "ab624467-9230-4655-eb67-73c51caa6868"
      },
      "outputs": [
        {
          "data": {
            "text/plain": [
              "<Axes: ylabel='formulary_drug_cd'>"
            ]
          },
          "execution_count": 107,
          "metadata": {},
          "output_type": "execute_result"
        },
        {
          "data": {
            "image/png": "[encoded data removed]",
            "text/plain": [
              "<Figure size 640x480 with 1 Axes>"
            ]
          },
          "metadata": {},
          "output_type": "display_data"
        }
      ],
      "source": [
        "#30 DROGAS MAIS PRESCRITAS\n",
        "df[\"formulary_drug_cd\"].value_counts().head(30).sort_values().plot(kind=\"barh\", )\n"
      ]
    },
    {
      "cell_type": "code",
      "execution_count": null,
      "metadata": {
        "colab": {
          "base_uri": "https://localhost:8080/"
        },
        "id": "Sc0nNPQgYtxs",
        "outputId": "75c6fcb9-aec5-4b3b-de32-55c7ad3a8e93"
      },
      "outputs": [
        {
          "data": {
            "text/plain": [
              "array(['PNEU25I', 'BISA5', 'BISA10R', 'SENN187', 'DOCU100L', 'HEPA5I',\n",
              "       'SIMV10', 'ASA81', 'DONE5', 'GABA100', 'MEMA5', 'TOLT1', 'TOPR25',\n",
              "       'TAMS.4', 'DOCU100', 'NACLFLUSH', 'GUAI10', 'ALBU17H', 'AMLO5',\n",
              "       'FINA5', 'LEVO75', 'TIOT', 'ASA325', 'ZITHR250', 'PRED20',\n",
              "       'SODI65S', 'HEPA10SYR', 'MVI', 'FERR325', 'IPRA2H', 'ALBU3H',\n",
              "       'SERT100', 'SIMV40', 'LEVO100', 'ALLO100', 'PANT40', 'FURO40I',\n",
              "       'CARV3125', 'METO25', 'METO5I', 'LACT30L', 'RIFA200', 'FENT2.550',\n",
              "       'MIDA100', 'PROP100IG', 'ATRO1I', 'CHLO15L', 'IPRAPF',\n",
              "       'PROAIR8.5H', 'MORP2I', 'NS451000', 'VIAL', 'NS500', 'VANCOBASE',\n",
              "       'NS/MBP100I', 'METRBASE', 'D5W100', 'D5W250', 'NS1000', 'MORPD5W',\n",
              "       'PANT40I', 'VANC1F', 'CEFE2I', 'METR500PM', 'CEFE1I', 'FURO100I',\n",
              "       'LEVO4I', 'MORP100PM', 'PERC', 'PARO10', 'ASCO500', 'CREO10',\n",
              "       'ACET325', 'ONDAN4I', 'DIPH25', 'CIPR500', 'GLYC17', 'MAG2PM',\n",
              "       'NEUT', 'MORP15', 'ACET20/4I', 'MORP30', 'MORP4I', 'ALBU25',\n",
              "       'VALS160', 'CAL1250', 'MORPIM', 'MICO2P', 'ALBU5500', 'KAYE15L',\n",
              "       'CALG1I', 'ALBU5250', 'D545NS1000', 'LR1000', 'D5NS1000', 'SW50',\n",
              "       'NS250', 'HESPBASE', 'KPHO45I', 'HESP500I', 'INFV', 'DEX50SY',\n",
              "       'CALC25', 'BENZ100', 'FURO40', 'SPIR25', 'CYAN500', 'IMDU60',\n",
              "       'HYDZ50', 'LEV250', 'OLAN5DTB', 'CEFP100', 'HALD5I', 'OLAN2.5',\n",
              "       'OXYC5', 'GLUC1I', 'OMEP20', 'D5W1000', 'HEPBASE', 'HEPPREMIX',\n",
              "       'LISI20', 'GLIP10', 'METO50', 'SEVE800', 'INSULIN', 'MAGO140',\n",
              "       'MAGS1I', 'LINE600', 'KCL20P', 'AMBI5', 'MIDA2I', 'METR500',\n",
              "       'PHYT10I', 'ALTE1I', 'WARF2', 'MOEX7.5', 'SEVE400', 'ATOR20',\n",
              "       'METO10I', 'MICROK10', 'CEFX1F', 'VANCO10I', 'AMP2I', 'UNAS3I',\n",
              "       'VANC500I', 'FRBD50', 'NS50', 'NS100', 'PROC10', 'NAPR250',\n",
              "       'FURO20', 'DRON25', 'TIZA4', 'TRAM50', 'LOVE40I', 'KETR30I',\n",
              "       'MORP1-5', 'COSY25I', 'APAP500', 'TIZA2', 'CAPT125', 'CEFA1F',\n",
              "       'PHEN10I', 'PHEN50I', 'HEPA100SYR', 'DONE10', 'ATOR40', 'ARTTS',\n",
              "       'SINE25250', 'SENN5L', 'FENT2I', 'DEXA4I', 'FLUD100', 'LANS30L',\n",
              "       'CLOP75', 'HYDZ20I', 'DIPH50I', 'IMDU30', 'LISI5', 'ERYT0.5EO',\n",
              "       'FENT50I', 'NORE800SYR', 'DOBPREM', 'LEVO500PM', 'KCL20PM',\n",
              "       'HC100I', 'INHRIV', 'MVI10I', 'ENAL25I', 'KCL40I', 'SYR60ML',\n",
              "       'DOBUBASE', 'LEVOBASE2', 'KCLBASE2', 'HYDRSYR', 'INTR20/250I',\n",
              "       'CLIN1000I', 'D5W50', 'D5W500', 'LEVOBASE', 'ISONACL',\n",
              "       'HEPAPREMIX', 'AZIT500I', 'LEVO250PM', 'FAMO20PM', 'ASA300R',\n",
              "       'TOPR100', 'TOPR50', 'ATEN100', 'ATOR80', 'LEV500', 'MAXIEO',\n",
              "       'CALC100SI', 'ATOR10', 'GABA300', 'SINE10100', 'INNHI', 'HCTZ25',\n",
              "       'ESCI10', 'KETO15I', 'VICODIN', 'LORA5', 'NS100CG', 'KCLBASE',\n",
              "       'CALCG2/100NS', 'KCL10PM', 'METF500', 'ERGO400T', 'FLUT110H',\n",
              "       'CALC500', 'PEPC20', 'ALEN70', 'PRED10', 'LEVE500', 'LEVE250T',\n",
              "       'ZONI25', 'NACL1', 'AMPI500', 'LACT1000R', 'ZONI100', 'PPD',\n",
              "       'MINE30L', 'CEPH500', 'CONJ625V', 'NITR50', 'HC5', 'HYDR10',\n",
              "       'MORP50PCA', 'NEOSI', 'GLYCO4I', 'ACET650L', 'ACET650R', 'HYDZ10',\n",
              "       'TIMO25ES', 'ALPH0.15O', 'LEVO25', 'COMP10I', 'URSO300', 'HYDM4',\n",
              "       'LORA2I', 'MEPE50I', 'LEVA0.63L', 'HYD12.5PCA', 'ROXIOS', 'DOXA1',\n",
              "       'FOLI1', 'PAPAIN2', 'KCL20/1000D51/2NS', 'CEFA10I', 'HYDR1SYR',\n",
              "       'LABE100I', 'HYDR2', 'POTA20', 'ONDA4ODT', 'LORA1', 'LOPE2',\n",
              "       'FRBD100', 'KCL40/1000NS', 'CIPROBASE', 'ZOSY4FPB', 'KCL20I',\n",
              "       'CIPR400PM', 'RANI150', 'ASA81EC', 'WARF0', 'MOM30L', 'CARA1',\n",
              "       'RANI150L', 'GLIP5', 'AMID200', 'RIVA15', 'WARF1', 'NTGBASE',\n",
              "       'MILRBASE', 'D5W250E', 'NTG100PM', 'MILR20PM', 'NICA2.5I',\n",
              "       'AMIO150I', 'DILT500I', 'INRHI', 'ADEN6I', 'PHEN250I', 'LORA20I',\n",
              "       'ASAEC325', 'SINE25100', 'DURA', 'NS250G', 'GLAR100I', 'D5W25',\n",
              "       'NAFC2F', 'ZOSY2.25I', 'ACE500I', 'EPO4I', 'FENT2.5I', 'ATEN25',\n",
              "       'LEVO50', 'T3', 'PHYT5', 'CIPRO400I', 'COSO10O', 'ARTI3.5O',\n",
              "       'ERGO50', 'BIMA.03E', 'CROM4O', 'DONEIND', 'ENO3I', 'ENOX100I',\n",
              "       'NAPH15O', 'ZINC220', 'DILT30', 'TRAZ50', 'DILT60', 'LIDO1I',\n",
              "       'FENT2.5250', 'WARF5', 'LANS30ST', 'REFRESH', 'GLUC2.5XL',\n",
              "       'NESI1.5I', 'FENT10I', 'PRED50', 'COZA25', 'HUMU100I', 'QUIG324',\n",
              "       'DIGO125', 'ISOS20', 'MVITH', 'FLUM500I', 'COMB14.7H', 'SENN15L',\n",
              "       'FERR300L', 'MULT5L', 'MORP1-10', 'MORP2-8', 'DIAZ10I', 'DEXAM20I',\n",
              "       'DEXA10I', 'LABE100', 'LABE200', 'MINX25', 'HYDZ25', 'MINO10',\n",
              "       'CATA1', 'DEXA4', 'DILA100', 'BACTDS', 'NS100G', 'D5W150',\n",
              "       'MANNBASE', 'NITP50I', 'PHEN100I', 'MANN100I', 'FOND2.5I',\n",
              "       'FOND5I', 'DOPABASE', 'DOPA400D', 'CEFX2F', 'CLOP300', 'PRED1ES',\n",
              "       'CIPR250', 'CILO25ES', 'KETO.5ES', 'ADVA250IH', 'TRAZ100', 'HALO5',\n",
              "       'WARF25', 'ENOX120I', 'ZOSY4.5I', 'GEOD80', 'IN73HI', 'LIDX60O',\n",
              "       'METH125I', 'PROP200IG', 'METH40I', 'THIA100', 'CEPACOL1',\n",
              "       'ENOX150I', 'DIAZ10', 'PENV500', 'NEPH1', 'NYST5L', 'EPO40I',\n",
              "       'GGAC5L', 'NTG2O', 'NTG3SL', 'MAAL30L', 'PROM25I', 'FELO2.5',\n",
              "       'PROPLA80', 'PROP10', 'OLAN5', 'LIDO5T', 'QUET25', 'PROP40',\n",
              "       'FURO80', 'TIAZ240', 'D5LR1000', 'PENI2F', 'PENGK3I', 'FERRG325',\n",
              "       'ADVA100/50H', 'LEVOBASE3', 'LEVO750PM', 'VENL75XR', 'LISI10',\n",
              "       'METH5', 'OXYC10', 'MIRT30', 'QUET200', 'OXYB5', 'PHEN100',\n",
              "       'TORS20', 'DOLA12.5I', 'NABC50S', 'FLUCBASE', 'GENTBASE1',\n",
              "       'SW1000BTL', 'BAG50I', 'CEFT1F', 'FLU200PM', 'DAPT500I', 'NABC50I',\n",
              "       'GENT100PM', 'VANCPR', 'ALBU25100I', 'HYDR2I', 'VANC250L',\n",
              "       'ASCOR504L', 'VANC500L', 'ADAL30', 'LATA5OS', 'SIME80', 'LIDO20L',\n",
              "       'HURRSPRAY', 'LEVO200I', 'PROP500IG', 'HYDRO4I', 'ADAL60',\n",
              "       'PIOG15', 'CYAN100', 'KCL40/1000D51/2NS', 'FIOC', 'ALPR25',\n",
              "       'ACY500I', 'PENGK5I', 'PENV250', 'ENOX80I', 'ACEB200', 'LID2J',\n",
              "       'DIAZ5', 'NTG4SL', 'PRAV20', 'MAGN400', 'DIAZ2', 'INDO25',\n",
              "       'MIDA50I', 'NICO14P', 'METO10', 'SUMA6V', 'MAAL148', 'CINA30',\n",
              "       'QUIN20', 'BACL10', 'TACR1', 'TACR0.5', 'LIEPI20I', 'FENT50P',\n",
              "       'MERO500I', 'TOBR80I', 'ERTA1I', 'MYCO2C', 'METH10', 'METL5',\n",
              "       'VECU10I', 'ACE250', 'PHEN30', 'PB30EL', 'PB15', 'PHENY100L',\n",
              "       'SCOP15P', 'GLYC1I', 'PB60I', 'KCL20/1000NS', 'SOLN',\n",
              "       'KCL20/1000D5NS', 'PHEN130I', 'PHEN100IVPB', 'FOSP100I',\n",
              "       'LEVE500I', 'NEBU2500I', 'SARNL', 'DIGO.5I', 'PHEN50', 'LIDO100S',\n",
              "       'CAPT25', 'GOLY4L', 'LIDOBASE', 'DOPA400PM', 'VASO20I', 'CEFT2F',\n",
              "       'LIDE4500I', 'NTG100PB', 'CILOS100', 'SALM50D', 'MORPH100',\n",
              "       'FLUC200', 'DANA200', 'ACYC200', 'HYDU500', 'PEPT240L', 'VITE400',\n",
              "       'VANC125L', 'MORP2-4', 'BIAX500', 'ETHA400', 'RIFA300', 'ISON300',\n",
              "       'PYRI100', 'PYRA500', 'MORP2-6', 'RIFA600I', 'FENTSOLN',\n",
              "       'CISA200I', 'FENT20I', nan, 'ACETNEB', 'CISA10I', 'MORP0.5-4',\n",
              "       'ENOX60I', 'DITU4L', 'DOLAS100', 'CODE30', 'DIPH125L', 'AUGM500',\n",
              "       'GLYB25', 'NYSTO', 'CIME300', 'GLYB5', 'FLUCBASE2', 'FLUCO400PM',\n",
              "       'TAXO30I', 'CARB450I', 'TAXO80I', 'SW3000', 'SYRG1', 'D5W250G',\n",
              "       'STER50I', '1/2NS250I', 'VALGA450', 'BACTSS', 'TACRSUSP',\n",
              "       'LAMI100', 'TACR0', 'HBIG5I', 'MYCO200/1L', 'PRED25', 'PRED5',\n",
              "       'CALC667', 'MPRED5I', 'MYCO500I', 'SIMU20I', 'MPREDSYR',\n",
              "       'GANC500I', 'NITR50I', 'EPOP5I', 'NORMOCARB', 'CAGLMEQ',\n",
              "       'NACL23.4I', 'NACL4I', 'MERO1I', 'NITRO1O', 'GLUC5XL', 'DIGO25',\n",
              "       'CLON1', 'CLON5', 'TRIF12.5I', 'SOLN3', 'ATROP1I', '0.45NS3000I',\n",
              "       'SW3000I', 'OCTR100I', 'DARV100', 'MIDA5I', 'HALO1', 'THIAM100I',\n",
              "       'SIRO1', 'NAPH15I', 'SIRO2L', 'MSCO30', 'NS150', 'ERYT500I',\n",
              "       'CAND4', 'GENT80I', 'ESMO2.5PM', 'CISA20I', 'ESMOBASE', 'CABE0.5',\n",
              "       'MIDO5', 'BACT10I', 'TIMO5ES', 'MABELI120', 'FENTSOLN50',\n",
              "       'MUCOM20', 'PRISMAB32K25000', 'D5W3000', 'HYPNSCL3', 'NS3000',\n",
              "       'EPI1I', 'SW1000', 'SOLU', 'MPRED1I', 'METH10SY', 'METD10',\n",
              "       'IBU5S', 'METO10L', 'BACT20L', 'CLIN75L', 'PSEU30', 'CITA20',\n",
              "       'DICL250', 'METD5', 'AMP50I', 'NADO20', 'OCTR0.1I', 'ERY1I',\n",
              "       'OCTR50I', 'HEP10I', 'AMP', 'MONT10', 'FLUT110HFA', 'FPS45L',\n",
              "       'PARO20', 'ANUS1O', 'LINEBASE', 'LINE600I', 'FENT75P', 'DILHP50I',\n",
              "       'GENT120PM', 'GENTBASE2', 'GENT80PM', 'ESMO100I', 'EPIS10I',\n",
              "       'LEVO175', 'CIPR200I', 'SERT50', 'DEME300', 'OXYCO5L', 'ESMOB100',\n",
              "       'CLIN9000I', 'ESMO2PM', 'CLON1P', 'METH8', 'VIOK', 'ATEN50',\n",
              "       'MORPCONC', 'LEVS125', 'PROC5', 'DIPH25L', 'METF500XR',\n",
              "       'NITR20SYR', 'PHEN12SYR', 'HUMA75/25I', 'CYPR4', 'TOLT2',\n",
              "       'ASCO500L', 'MOR10L', 'FENT100P', 'MORP5I', 'GABA250L', 'DULO30',\n",
              "       'MIRT15', 'LEVO100I', 'CREON12', 'ACET1000I', 'CAPS25C',\n",
              "       'ACETSOLN', 'FLEETEN', 'MIRT15SOL', 'LEVO750', 'PANC5000',\n",
              "       'SODI650', 'PHOS250', 'BAG50', 'CEFE1000I', 'NORE8/250', 'PARO10L',\n",
              "       'MSCO15', 'PARO30', 'NOREBASE', 'DULO20', 'FENT25P', 'NS250B',\n",
              "       'KCL20/1000D5W', 'PANT40IVPB', 'HEPA10000/5I', 'INFL0.5LF',\n",
              "       'NALO4I', 'LIDO2/5J', 'SPIR100', 'GUAI10L', 'MYC30O', 'ENAL10',\n",
              "       'DILT90', 'CLON3P', 'KCL40/1000D5W', 'CEFT2I', 'MBLU1I', 'DESI30O',\n",
              "       'HALO05', 'OLAN10I', 'LIDPF2I', 'LEVE100L', 'SUCC20I', 'ETOM2I',\n",
              "       'EPIDBAG250', 'HYDR2PF', 'BUPI0.1EPD', 'HEP1I', 'SODCIT3SYR',\n",
              "       'MIDO25', 'NYSTC', 'RISP1', 'ASCO250', 'PHYT2L', 'PRISMAB22K45000',\n",
              "       'ACD3/1000I', 'FOLI5I', 'FOSI40', 'ROSU5', 'MECL125', 'IMIP25',\n",
              "       'VERA240SR', 'DIVA250ER', 'DIVA125SP', 'MOXI0.5ES', 'PENT300H',\n",
              "       'D5W', 'ALLO300', 'ALTE1/5I', 'COLL30O', 'LIDO15AM', 'NALO3L',\n",
              "       'DAPS100', 'NALO6L', 'ATOV750S', 'METH12I', 'THOR25', 'THOR25I',\n",
              "       'SYRINGENS', 'STLTP', 'DOXY100C', 'CLOT10', 'ALPR1', 'MAGCITL',\n",
              "       'GELCLAIR', 'PREG25', 'PREG75', 'CHEMOSYR', 'RITU500I', 'ONDA4I',\n",
              "       'ETOP100I', 'CYCL1I', 'DOXO50I', 'VINC2I', 'LEU100I', 'GCSF300I',\n",
              "       'METH1I', 'ALTE1/2I', 'CYTA100I', 'HYDRO100I', 'GAMML10I',\n",
              "       'GCSF480I', 'DOXY100I', 'IVIGBAG', 'RASB1.5I', 'DEXA100I',\n",
              "       'MESNA1I', 'MTX50I', 'SYRINGE5', 'FLUT16N', 'ALUMI30L', 'POLYEO',\n",
              "       'GABA400', 'NORT10', 'NORT25', 'LEUC5', 'LEUC25', 'CAPH15L',\n",
              "       'BUPI75I', 'BACI15O', 'FOLI1I', 'LIDPF1I', 'MEGE400L', 'OCTR500S',\n",
              "       'THIO25', 'TIAZ120', 'LEVO112', 'CARB100XR', 'CLOT130C', 'FENT12P',\n",
              "       'THEO80LQ', 'NICA40PM', 'NICABAGSODCHL'], dtype=object)"
            ]
          },
          "execution_count": 8,
          "metadata": {},
          "output_type": "execute_result"
        }
      ],
      "source": [
        "#VISUALIZANDO OS DIFERENTES CODIGOS INTERNOS PARA DIFERENTES DROGAS\n",
        "df[\"Drug_code\"].unique()\n",
        "\n",
        "#or:\n",
        "\n",
        "#Drugs = [ ]\n",
        "#for code in df[\"Drug_code\"]:\n",
        "#    if code not in Drugs:\n",
        "#        Drugs.append(code)\n",
        "#print(Drugs)"
      ]
    },
    {
      "cell_type": "code",
      "execution_count": null,
      "metadata": {
        "colab": {
          "base_uri": "https://localhost:8080/"
        },
        "id": "nvVlQW74Ytxs",
        "outputId": "cd476e40-6bd1-4ded-d84c-5430203af823"
      },
      "outputs": [
        {
          "name": "stdout",
          "output_type": "stream",
          "text": [
            "    ID_Patient  prescription_count\n",
            "0        10064                  15\n",
            "1        42458                  15\n",
            "2        44222                  19\n",
            "3        42033                  20\n",
            "4        42275                  20\n",
            "..         ...                 ...\n",
            "89       10061                 314\n",
            "90       10124                 315\n",
            "91       10126                 437\n",
            "92       40310                 893\n",
            "93       41976                1158\n",
            "\n",
            "[94 rows x 2 columns]\n"
          ]
        }
      ],
      "source": [
        "#PACIENTES COM MULTIPLAS PRESCRIÇÕES (EM TODAS AS INTERNAÇÕES)\n",
        "\n",
        "prescription_counts = df.groupby('ID_Patient').size().sort_values().reset_index(name='prescription_count')\n",
        "multiple_prescriptions = prescription_counts[prescription_counts['prescription_count'] > 1]\n",
        "print(multiple_prescriptions)"
      ]
    },
    {
      "cell_type": "code",
      "execution_count": null,
      "metadata": {
        "colab": {
          "base_uri": "https://localhost:8080/"
        },
        "id": "NjUTya8Xcj3q",
        "outputId": "40281d18-e1bc-4e9c-81ca-c8a181d1b08b"
      },
      "outputs": [
        {
          "name": "stdout",
          "output_type": "stream",
          "text": [
            "     ID_medical_record  prescription_count\n",
            "0               175880                  12\n",
            "1               111761                  15\n",
            "2               159647                  15\n",
            "3               131048                  18\n",
            "4               192189                  19\n",
            "..                 ...                 ...\n",
            "117             170883                 244\n",
            "118             139932                 279\n",
            "119             145203                 314\n",
            "120             160445                 437\n",
            "121             186361                 784\n",
            "\n",
            "[122 rows x 2 columns]\n"
          ]
        }
      ],
      "source": [
        "#INTERNAÇÕES COM MULTIPLAS PRESCRIÇÕES (DUAS OU MAIS PODEM PERTENCER AO MESMO PACIENTE)\n",
        "\n",
        "prescription_counts = df.groupby('ID_medical_record').size().sort_values().reset_index(name='prescription_count')\n",
        "multiple_prescriptions = prescription_counts[prescription_counts['prescription_count'] > 1]\n",
        "print(multiple_prescriptions)"
      ]
    },
    {
      "cell_type": "code",
      "execution_count": null,
      "metadata": {
        "colab": {
          "base_uri": "https://localhost:8080/"
        },
        "id": "8anjINcr5icI",
        "outputId": "2be32004-aa31-4e22-810a-f0bdb94a52f5"
      },
      "outputs": [
        {
          "name": "stdout",
          "output_type": "stream",
          "text": [
            "    ID_Patient  ID_medical_record  Prescriptions_count\n",
            "60       41976                 15                 1158\n",
            "50       40310                  2                  893\n",
            "41       10126                  1                  437\n",
            "40       10124                  2                  315\n",
            "19       10061                  1                  314\n",
            "..         ...                ...                  ...\n",
            "62       42033                  1                   20\n",
            "68       42275                  1                   20\n",
            "92       44222                  1                   19\n",
            "20       10064                  1                   15\n",
            "77       42458                  1                   15\n",
            "\n",
            "[94 rows x 3 columns]\n"
          ]
        }
      ],
      "source": [
        "#RELAÇÃO DE PACIENTES, ADMISSÕES E QUANTIDADE DE PRESCRIÇÕES MÉDICAS\n",
        "\n",
        "admissions_per_patient = df.groupby('ID_Patient')['ID_medical_record'].nunique()\n",
        "admissions_per_patient.columns = ['ID_Patient', 'Admissions_count']\n",
        "prescriptions_per_patient = df.groupby('ID_Patient').size().reset_index(name='Prescriptions_count')\n",
        "#patient_info = pd.merge(admissions_per_patient, prescriptions_per_patient, on='ID_Patient').sort_values(by='Admissions_count', ascending=False)\n",
        "patients_admission_info = pd.merge(admissions_per_patient, prescriptions_per_patient, on='ID_Patient').sort_values(by='Prescriptions_count', ascending=False)\n",
        "print(patients_admission_info)"
      ]
    },
    {
      "cell_type": "code",
      "execution_count": null,
      "metadata": {
        "colab": {
          "base_uri": "https://localhost:8080/"
        },
        "id": "G6LSPukSWAdm",
        "outputId": "5bbd1c65-b454-4a33-fc3e-7af82fc1f96d"
      },
      "outputs": [
        {
          "name": "stdout",
          "output_type": "stream",
          "text": [
            "    ID_Patient  ID_medical_record  Prescriptions_count  Dif_drugs_count\n",
            "0        41976                 15                 1158              196\n",
            "1        40310                  2                  893              197\n",
            "2        10126                  1                  437               86\n",
            "3        10124                  2                  315              103\n",
            "4        10061                  1                  314               87\n",
            "..         ...                ...                  ...              ...\n",
            "89       42033                  1                   20               15\n",
            "90       42275                  1                   20               16\n",
            "91       44222                  1                   19               17\n",
            "92       10064                  1                   15               10\n",
            "93       42458                  1                   15               15\n",
            "\n",
            "[94 rows x 4 columns]\n"
          ]
        }
      ],
      "source": [
        "#QUANTIDADE DE FARMACOS DIFERENTES ADMINISTRADOS POR PACIENTE (USANDO CÓDIGO NDC DAS DROGAS)\n",
        "\n",
        "dif_drugs_per_patient = df.groupby('ID_Patient')['ndc'].nunique()\n",
        "dif_drugs_per_patient = dif_drugs_per_patient.reset_index(name='Dif_drugs_count')\n",
        "patients_info = pd.merge(patients_admission_info, dif_drugs_per_patient, on=\"ID_Patient\").sort_values(by='Prescriptions_count', ascending=False)\n",
        "print(patients_info)"
      ]
    },
    {
      "cell_type": "code",
      "execution_count": null,
      "metadata": {
        "colab": {
          "base_uri": "https://localhost:8080/"
        },
        "id": "8cV0G3eoTj-b",
        "outputId": "ded0a9ce-650e-411c-9520-2eca2d2bbcff"
      },
      "outputs": [
        {
          "name": "stdout",
          "output_type": "stream",
          "text": [
            "    ID_Patient  ID_medical_record  Prescriptions_count  Dif_drugs_count\n",
            "0        41976                 15                 1158              141\n",
            "1        40310                  2                  893              148\n",
            "2        10126                  1                  437               75\n",
            "3        10124                  2                  315               87\n",
            "4        10061                  1                  314               69\n",
            "..         ...                ...                  ...              ...\n",
            "89       42033                  1                   20               14\n",
            "90       42275                  1                   20               16\n",
            "91       44222                  1                   19               15\n",
            "92       10064                  1                   15                9\n",
            "93       42458                  1                   15               14\n",
            "\n",
            "[94 rows x 4 columns]\n"
          ]
        }
      ],
      "source": [
        "#QUANTIDADE DE FARMACOS DIFERENTES ADMINISTRADOS POR PACIENTE (USANDO O NOME POPULAR DAS DROGAS)\n",
        "\n",
        "dif_drugs_per_patient = df.groupby('ID_Patient')['Popular_drug_name'].nunique()\n",
        "dif_drugs_per_patient = dif_drugs_per_patient.reset_index(name='Dif_drugs_count')\n",
        "patients_info = pd.merge(patients_admission_info, dif_drugs_per_patient, on=\"ID_Patient\").sort_values(by='Prescriptions_count', ascending=False)\n",
        "print(patients_info)"
      ]
    },
    {
      "cell_type": "code",
      "execution_count": null,
      "metadata": {
        "id": "Je4_yBJ1ffs4"
      },
      "outputs": [],
      "source": []
    },
    {
      "cell_type": "markdown",
      "metadata": {
        "id": "r4Sv82T2bhSF"
      },
      "source": [
        "FORTE INCONSISTENCIA ENTRE OS DADOS DE NOME E CÓDIGO DE DROGAS (ALÉM DE ERRO HUMANO: CODIGOS DIFERENTES PARA DOSAGENS, VIA DE ADMINISTRAÇÃO, ETC.)\n",
        "SERÁ NECESSÁRIO MÉTODO ALTENARTIVO PARA MAIOR CONFIABILIDADE NA QUANTIZAÇÃO DE DROGAS DISTINTAS PRESCRITAS A CADA PACIENTE, ENTÃO REINICIALIZANDO NOSSO DATASET PARA MENORES INTERFERENCIAS."
      ]
    },
    {
      "cell_type": "code",
      "execution_count": null,
      "metadata": {
        "id": "YhCrpYtebhSG"
      },
      "outputs": [],
      "source": [
        "df = pd.read_csv(\"https://raw.githubusercontent.com/FerriVinicius/Projeto-E/refs/heads/main/PRESCRIPTIONS.csv\")\n",
        "df2 = pd.read_csv(\"https://raw.githubusercontent.com/FerriVinicius/Projeto-E/refs/heads/main/ADMISSIONS.csv\")\n",
        "\n",
        "#FILTRANDO AS COLUNAS IMPORTANTES PARA ANÁLISES\n",
        "df = df[[#'row_id',\n",
        "            'subject_id',\n",
        "            'hadm_id', 'icustay_id',\n",
        "            #'startdate', 'enddate',\n",
        "            #'drug_type',\n",
        "            'drug', 'drug_name_poe', 'drug_name_generic',\n",
        "            'formulary_drug_cd',\n",
        "            'gsn', 'ndc',\n",
        "            #'prod_strength', 'dose_val_rx',\n",
        "            #'dose_unit_rx', 'form_val_disp', 'form_unit_disp',\n",
        "            #'route'\n",
        "            ]].copy()\n",
        "\n",
        "df2 = df2[[#'row_id',\n",
        "            'subject_id', #'hadm_id', #'admittime', 'dischtime',\n",
        "            'deathtime', #'admission_type', #'admission_location',\n",
        "            #'discharge_location', 'insurance', 'language', 'religion',\n",
        "            #'marital_status', 'ethnicity', 'edregtime', 'edouttime', 'diagnosis',\n",
        "            #'hospital_expire_flag', 'has_chartevents_data'\n",
        "            ]].copy()\n"
      ]
    },
    {
      "cell_type": "code",
      "execution_count": null,
      "metadata": {
        "id": "MmRtOyrwbhSH"
      },
      "outputs": [],
      "source": [
        "##CRIANDO UM DICIONÁRIO QUE IRÁ ARMAZENAR CADA PACIENTE, SUAS INTERNAÇÕES E DROGAS PRESCRITAS\n",
        "patients_dict = {}\n",
        "\n",
        "for index, row in df.iterrows():\n",
        "    subject_id = row['subject_id']\n",
        "    hadm_id = row['hadm_id']\n",
        "\n",
        "    #TUPLA PARA TODAS AS VARIAVEIS DE DROGAS DISPONIVEIS NO DATASET\n",
        "    drug_info = (\n",
        "        row['drug'],\n",
        "        row['drug_name_poe'],\n",
        "        row['drug_name_generic'],\n",
        "        row['formulary_drug_cd'],\n",
        "        row['gsn'],\n",
        "        row['ndc']\n",
        "    )\n",
        "\n",
        "    #ADICIONAR SOMENTE VALORES NÃO NULOS A TUPLA\n",
        "    drug_info = tuple(filter(lambda x: x not in [None, ''], drug_info))\n",
        "\n",
        "    #CONDICIONAL QUE SÓ IRÁ CONSIDERAR LINHAS COM ENTRADAS VÁLIDAS\n",
        "    if len(drug_info) > 0:\n",
        "        if subject_id not in patients_dict:\n",
        "            patients_dict[subject_id] = {}\n",
        "\n",
        "        if hadm_id not in patients_dict[subject_id]:\n",
        "            patients_dict[subject_id][hadm_id] = []\n",
        "\n",
        "        #ADICIONA A INFORMAÇÃO DE DROGAS PRESCRITAS A CADA ADMISSÃO\n",
        "        patients_dict[subject_id][hadm_id].append(drug_info)"
      ]
    },
    {
      "cell_type": "code",
      "execution_count": null,
      "metadata": {
        "id": "KtZpz32CbhSH"
      },
      "outputs": [],
      "source": [
        "#FUNÇÃO PARA CHECAR SE A DROGA JÁ ESTÁ PRESENTE NA LISTA DE DROGAS PARA CADA INTERNAÇÃO\n",
        "\n",
        "def is_duplicate(drug, unique_drugs):\n",
        "    for unique_drug in unique_drugs:\n",
        "        if any(d == u for d, u in zip(drug, unique_drug)):\n",
        "            return True\n",
        "    return False\n"
      ]
    },
    {
      "cell_type": "code",
      "execution_count": null,
      "metadata": {
        "id": "dij7d1apbhSI"
      },
      "outputs": [],
      "source": [
        "#LISTA PARA ARMAZENAMENTO DE LINHAS DO NOVO DATASET CONTENDO ENTRADAS UNICAS DE DROGAS\n",
        "patient_data = []\n",
        "\n",
        "#LOOP ATRAVÉS DO DICIONÁRIO DE PACIENTES PARA CALCULO DE DROGAS PRESCRITAS DISTINTAS\n",
        "for subject_id, admissions in patients_dict.items():\n",
        "    unique_drugs = []\n",
        "\n",
        "    for hadm_id, drugs in admissions.items():\n",
        "        for drug in drugs:\n",
        "            filtered_drug = tuple(filter(lambda x: x not in [None, ''], drug))\n",
        "            if len(filtered_drug) > 0 and not is_duplicate(filtered_drug, unique_drugs):\n",
        "                unique_drugs.append(filtered_drug)\n",
        "\n",
        "    #ADICIONA UMA LINHA A CADA PACIENTE E ADICIONA +1 A CONTAGEM DE DROGAS DISTINTAS\n",
        "    patient_data.append({'subject_id': subject_id, 'distinct_drug_count': len(unique_drugs)})\n",
        "\n",
        "#CRIA UM NOVO DATAFRAME CONTENDO PACIENTES E QUANTIDADE DE DROGAS DISTINTAS PRECRITAS\n",
        "df3 = pd.DataFrame(patient_data)"
      ]
    },
    {
      "cell_type": "code",
      "execution_count": null,
      "metadata": {
        "id": "qCgES8b7bhSI"
      },
      "outputs": [],
      "source": [
        "df2 = df2.rename(columns={'subject_id':\"ID_Patient\"})\n",
        "df3 = df3.rename(columns={'subject_id':\"ID_Patient\"})"
      ]
    },
    {
      "cell_type": "code",
      "execution_count": null,
      "metadata": {
        "id": "OjA5a0EcbhSI",
        "outputId": "876946e1-cc62-4538-f38d-58c1903cff94"
      },
      "outputs": [
        {
          "data": {
            "text/html": [
              "<div>\n",
              "<style scoped>\n",
              "    .dataframe tbody tr th:only-of-type {\n",
              "        vertical-align: middle;\n",
              "    }\n",
              "\n",
              "    .dataframe tbody tr th {\n",
              "        vertical-align: top;\n",
              "    }\n",
              "\n",
              "    .dataframe thead th {\n",
              "        text-align: right;\n",
              "    }\n",
              "</style>\n",
              "<table border=\"1\" class=\"dataframe\">\n",
              "  <thead>\n",
              "    <tr style=\"text-align: right;\">\n",
              "      <th></th>\n",
              "      <th>ID_Patient</th>\n",
              "      <th>distinct_drug_count</th>\n",
              "      <th>ID_medical_record</th>\n",
              "      <th>Prescriptions_count</th>\n",
              "      <th>alive</th>\n",
              "      <th>ICU_stay</th>\n",
              "    </tr>\n",
              "  </thead>\n",
              "  <tbody>\n",
              "    <tr>\n",
              "      <th>84</th>\n",
              "      <td>40310</td>\n",
              "      <td>130</td>\n",
              "      <td>2</td>\n",
              "      <td>893</td>\n",
              "      <td>True</td>\n",
              "      <td>False</td>\n",
              "    </tr>\n",
              "    <tr>\n",
              "      <th>74</th>\n",
              "      <td>41976</td>\n",
              "      <td>122</td>\n",
              "      <td>15</td>\n",
              "      <td>1158</td>\n",
              "      <td>True</td>\n",
              "      <td>True</td>\n",
              "    </tr>\n",
              "    <tr>\n",
              "      <th>17</th>\n",
              "      <td>10124</td>\n",
              "      <td>80</td>\n",
              "      <td>2</td>\n",
              "      <td>315</td>\n",
              "      <td>False</td>\n",
              "      <td>False</td>\n",
              "    </tr>\n",
              "    <tr>\n",
              "      <th>29</th>\n",
              "      <td>10045</td>\n",
              "      <td>66</td>\n",
              "      <td>1</td>\n",
              "      <td>209</td>\n",
              "      <td>True</td>\n",
              "      <td>False</td>\n",
              "    </tr>\n",
              "    <tr>\n",
              "      <th>39</th>\n",
              "      <td>10061</td>\n",
              "      <td>62</td>\n",
              "      <td>1</td>\n",
              "      <td>314</td>\n",
              "      <td>False</td>\n",
              "      <td>True</td>\n",
              "    </tr>\n",
              "    <tr>\n",
              "      <th>...</th>\n",
              "      <td>...</td>\n",
              "      <td>...</td>\n",
              "      <td>...</td>\n",
              "      <td>...</td>\n",
              "      <td>...</td>\n",
              "      <td>...</td>\n",
              "    </tr>\n",
              "    <tr>\n",
              "      <th>0</th>\n",
              "      <td>42458</td>\n",
              "      <td>14</td>\n",
              "      <td>1</td>\n",
              "      <td>15</td>\n",
              "      <td>True</td>\n",
              "      <td>True</td>\n",
              "    </tr>\n",
              "    <tr>\n",
              "      <th>54</th>\n",
              "      <td>10089</td>\n",
              "      <td>14</td>\n",
              "      <td>1</td>\n",
              "      <td>29</td>\n",
              "      <td>True</td>\n",
              "      <td>False</td>\n",
              "    </tr>\n",
              "    <tr>\n",
              "      <th>5</th>\n",
              "      <td>42033</td>\n",
              "      <td>14</td>\n",
              "      <td>1</td>\n",
              "      <td>20</td>\n",
              "      <td>True</td>\n",
              "      <td>True</td>\n",
              "    </tr>\n",
              "    <tr>\n",
              "      <th>10</th>\n",
              "      <td>43879</td>\n",
              "      <td>13</td>\n",
              "      <td>1</td>\n",
              "      <td>31</td>\n",
              "      <td>True</td>\n",
              "      <td>True</td>\n",
              "    </tr>\n",
              "    <tr>\n",
              "      <th>67</th>\n",
              "      <td>10064</td>\n",
              "      <td>8</td>\n",
              "      <td>1</td>\n",
              "      <td>15</td>\n",
              "      <td>False</td>\n",
              "      <td>False</td>\n",
              "    </tr>\n",
              "  </tbody>\n",
              "</table>\n",
              "<p>94 rows × 6 columns</p>\n",
              "</div>"
            ],
            "text/plain": [
              "    ID_Patient  distinct_drug_count  ID_medical_record  Prescriptions_count  \\\n",
              "84       40310                  130                  2                  893   \n",
              "74       41976                  122                 15                 1158   \n",
              "17       10124                   80                  2                  315   \n",
              "29       10045                   66                  1                  209   \n",
              "39       10061                   62                  1                  314   \n",
              "..         ...                  ...                ...                  ...   \n",
              "0        42458                   14                  1                   15   \n",
              "54       10089                   14                  1                   29   \n",
              "5        42033                   14                  1                   20   \n",
              "10       43879                   13                  1                   31   \n",
              "67       10064                    8                  1                   15   \n",
              "\n",
              "    alive  ICU_stay  \n",
              "84   True     False  \n",
              "74   True      True  \n",
              "17  False     False  \n",
              "29   True     False  \n",
              "39  False      True  \n",
              "..    ...       ...  \n",
              "0    True      True  \n",
              "54   True     False  \n",
              "5    True      True  \n",
              "10   True      True  \n",
              "67  False     False  \n",
              "\n",
              "[94 rows x 6 columns]"
            ]
          },
          "execution_count": 124,
          "metadata": {},
          "output_type": "execute_result"
        }
      ],
      "source": [
        "dist_drugs = pd.merge(df3, patients_admission_info, on=\"ID_Patient\").sort_values(by='distinct_drug_count', ascending=False)\n",
        "dist_drugs['alive'] = df2['deathtime'].isnull()\n",
        "dist_drugs['ICU_stay'] = df['icustay_id'].isnull()\n",
        "dist_drugs\n",
        "\n",
        ""
      ]
    },
    {
      "cell_type": "code",
      "execution_count": null,
      "metadata": {
        "id": "pDHZBP7vbhSI",
        "outputId": "3b4378d8-1697-43cf-b707-7b45ef013361"
      },
      "outputs": [
        {
          "data": {
            "image/png": "[encoded data removed]",
            "text/plain": [
              "<Figure size 800x600 with 1 Axes>"
            ]
          },
          "metadata": {},
          "output_type": "display_data"
        }
      ],
      "source": [
        "#SCATTERPLOT\n",
        "plt.figure(figsize=(8, 6))\n",
        "plt.scatter(dist_drugs['distinct_drug_count'], dist_drugs['Prescriptions_count'], color='blue', label='Paciente')\n",
        "z = np.polyfit(dist_drugs['distinct_drug_count'], dist_drugs['Prescriptions_count'], 1)\n",
        "p = np.poly1d(z)\n",
        "plt.plot(dist_drugs['distinct_drug_count'], p(dist_drugs['distinct_drug_count']), \"r--\", label='Linha de tendência')\n",
        "plt.xlabel('Prescrições distintas')\n",
        "plt.ylabel('Total de prescrições')\n",
        "plt.title('Total de prescrições x Prescrições distintas')\n",
        "plt.legend()\n",
        "plt.grid(True)\n",
        "plt.show()\n"
      ]
    },
    {
      "cell_type": "code",
      "execution_count": null,
      "metadata": {
        "id": "9gHzkDZtbhSJ"
      },
      "outputs": [],
      "source": [
        "#LISTA COM EXCIPIENTES FARMACEUTICOS COMUNS QUE OPTAMOS POR IGNORAR DURANTE AS ANÁLISES PARA TORNAR O PROCESSO COMPUTACIONAL MAIS RÁPIDO\n",
        "stopwords = ['Chloride', 'Sodium', 'Hydrochloride', 'Potassium', 'Magnesium', 'Calcium', 'Sulfate', 'Phosphate', 'Carbonate', 'Bicarbonate']\n",
        "\n",
        "#FUNÇÃO PARA REMOVER AS STOPWORDS DEFINIDAS E CONVERSÃO PARA LETRAS MAIUSCULAS\n",
        "def remove_stopwords_and_uppercase(drug_name, stopwords):\n",
        "    drug_name_parts = drug_name.split()\n",
        "    filtered_parts = [word.upper() for word in drug_name_parts if word not in stopwords]\n",
        "    return ' '.join(filtered_parts)\n",
        "\n",
        "#CARREGANDO OS DATASETS QUE SERÃO UTILIZADOS\n",
        "df_prescriptions = pd.read_csv('https://raw.githubusercontent.com/FerriVinicius/Projeto-E/refs/heads/main/PRESCRIPTIONS.csv')\n",
        "df_interactions = pd.read_csv('https://raw.githubusercontent.com/Prahlad-Narayan/DDI/refs/heads/main/backend/DDI_data.csv')\n",
        "\n",
        "#FILTRANDO AS COLUNAS QUE SERÃO UTILIZADAS\n",
        "df_prescriptions_cleaned = df_prescriptions[['subject_id', 'hadm_id', 'drug', 'drug_name_generic', 'gsn', 'ndc']]\n",
        "df_interactions_cleaned = df_interactions[['drug1_name', 'drug2_name', 'interaction_type']]\n",
        "\n",
        "#VERIFICANDO SE TODAS AS COLUNAS COM NOMES DE DROGAS SÃO STRINGS E PREENCHENDO ENTRADAS NaN EM\n",
        "df_prescriptions_cleaned['drug'] = df_prescriptions_cleaned['drug'].fillna('').astype(str)\n",
        "df_prescriptions_cleaned['drug_name_generic'] = df_prescriptions_cleaned['drug_name_generic'].fillna('').astype(str)\n",
        "df_interactions_cleaned['drug1_name'] = df_interactions_cleaned['drug1_name'].fillna('').astype(str)\n",
        "df_interactions_cleaned['drug2_name'] = df_interactions_cleaned['drug2_name'].fillna('').astype(str)\n",
        "\n",
        "#PROCESSANDO OS NOMES DAS DROGAS EM AMBOS OS DATASETS UTILIZANDO A BIBLIOTECA Swifter PARA PARALELISMO, TORNANDO O PROCESSO COMPUTACIONALMENTE MAIS RÁPIDO\n",
        "df_prescriptions_cleaned['cleaned_drug'] = df_prescriptions_cleaned['drug'].swifter.apply(lambda x: remove_stopwords_and_uppercase(x, stopwords))\n",
        "df_prescriptions_cleaned['cleaned_drug_name_generic'] = df_prescriptions_cleaned['drug_name_generic'].swifter.apply(lambda x: remove_stopwords_and_uppercase(x, stopwords))\n",
        "df_interactions_cleaned['cleaned_drug1_name'] = df_interactions_cleaned['drug1_name'].swifter.apply(lambda x: remove_stopwords_and_uppercase(x, stopwords))\n",
        "df_interactions_cleaned['cleaned_drug2_name'] = df_interactions_cleaned['drug2_name'].swifter.apply(lambda x: remove_stopwords_and_uppercase(x, stopwords))\n",
        "\n",
        "#FUNÇÃO PARA PERFORMAR O STRING MATCHING UTILIZANDO A BIBLIOTECA TheFuzz, COM LIMIAR DE PROXIMIDADE DE 85%\n",
        "def match_drug_fuzzy(drug_name, df_interactions, threshold=85):\n",
        "    drug1_matches = process.extractBests(drug_name, df_interactions['cleaned_drug1_name'].unique(), scorer=fuzz.ratio, score_cutoff=threshold)\n",
        "    drug2_matches = process.extractBests(drug_name, df_interactions['cleaned_drug2_name'].unique(), scorer=fuzz.ratio, score_cutoff=threshold)\n",
        "    return drug1_matches, drug2_matches\n",
        "\n",
        "#FUNÇÃO PARA CHECAR AS INTERAÇÕES PARA CADA ADMISSÃO ELIMINANDO REDUNDANCIAS\n",
        "def check_interactions_for_admission(hadm_id, df_prescriptions, df_interactions, fuzzy_threshold=85):\n",
        "    admission_drugs = df_prescriptions[df_prescriptions['hadm_id'] == hadm_id]\n",
        "    interactions = []\n",
        "\n",
        "    seen_interactions = set()  #VERIFICAÇÃO SE O PAR DE DROGAS JÁ FOI ITERADO\n",
        "\n",
        "    #LAÇO QUE PERCORRE CADA LINHA DO DATAFRAME ADMISSION_DRUGS PARA PROCESSAR O PRIMEIRO MEDICAMENTO\n",
        "    for i, row1 in admission_drugs.iterrows():\n",
        "        #EXTRAI O NOME DO MEDICAMENTO LIMPO E O NOME GENÉRICO LIMPO PARA O PRIMEIRO MEDICAMENTO A SER ITERADO\n",
        "        drug1 = row1['cleaned_drug'] #O NOME POPULAR DO MEDICAMENTO PROCESSADO\n",
        "        drug1_generic = row1['cleaned_drug_name_generic'] #O NOME GENÉRICO DO MEDICAMENTO PROCESSADO\n",
        "\n",
        "        #LAÇO QUE PERCORRE CADA LINHA DO DATAFRAME ADMISSION_DRUGS PARA PROCESSAR O SEGUNDO MEDICAMENTO\n",
        "        for j, row2 in admission_drugs.iterrows():\n",
        "            #GARANTINDO QUE NÃO ESTAMOS COMPARANDO O MESMO MEDICAMENTO COM ELE MESMO\n",
        "            if i != j:\n",
        "                #ABAIXO O MESMO PROCESSO DO LAÇO ANTERIOR\n",
        "                drug2 = row2['cleaned_drug']\n",
        "                drug2_generic = row2['cleaned_drug_name_generic']\n",
        "\n",
        "                #CRIA UMA TUPLA COM O NOME DAS DROGAS ENCONTRADAS PARA EVITAR DUPLICATAS\n",
        "                interaction_pair = tuple(sorted([drug1, drug2]))\n",
        "\n",
        "                #PULA A ITERAÇÃÇÃO SE ELA JÁ TIVER SIDO ENCONTRADA\n",
        "                if interaction_pair in seen_interactions:\n",
        "                    continue\n",
        "\n",
        "                #MARCA AS ITERAÇÕES JÁ RECONHECIDAS EVITANDO REDUNDÂNCIA\n",
        "                seen_interactions.add(interaction_pair)\n",
        "\n",
        "                #PRIMEIRA TENTATIVA: SIMILARIDADE EXATA DE STRINGS DAS COLUNAS drug, drug1 e drug2\n",
        "                interaction = df_interactions[((df_interactions['cleaned_drug1_name'] == drug1) &\n",
        "                                               (df_interactions['cleaned_drug2_name'] == drug2)) |\n",
        "                                              ((df_interactions['cleaned_drug1_name'] == drug2) &\n",
        "                                               (df_interactions['cleaned_drug2_name'] == drug1))]\n",
        "\n",
        "                if not interaction.empty and drug1 and drug2:  #CERTIFICANDO QUE AS ENTRADAS NÃO ESTÃO VAZIAS\n",
        "                    #ADICIONA A INTERAÇÃO ENCONTRADA A LISTA DE INTERAÇÕES\n",
        "                    interactions.append({\n",
        "                        'hadm_id': hadm_id,\n",
        "                        'drug1': drug1,\n",
        "                        'drug2': drug2,\n",
        "                        'interaction_type': interaction['interaction_type'].values[0],\n",
        "                        'match_type': 'drug (brand name)'\n",
        "                    })\n",
        "                else:\n",
        "                    #CASO NÃO ECONTRE PELO NOME POPULAR REPETE-SE O MESMO PROCESSO ACIMA COM O NOME GENÉRICO\n",
        "                    interaction = df_interactions[((df_interactions['cleaned_drug1_name'] == drug1_generic) &\n",
        "                                                   (df_interactions['cleaned_drug2_name'] == drug2_generic)) |\n",
        "                                                  ((df_interactions['cleaned_drug1_name'] == drug2_generic) &\n",
        "                                                   (df_interactions['cleaned_drug2_name'] == drug1_generic))]\n",
        "\n",
        "                    if not interaction.empty and drug1_generic and drug2_generic:\n",
        "                        interactions.append({\n",
        "                            'hadm_id': hadm_id,\n",
        "                            'drug1': drug1_generic,\n",
        "                            'drug2': drug2_generic,\n",
        "                            'interaction_type': interaction['interaction_type'].values[0],\n",
        "                            'match_type': 'drug_name_generic (generic name)'\n",
        "                        })\n",
        "                    else:\n",
        "                        #TERCEIRA TENTATIVA: FUZZ STRING MATCH IRÁ UTILIZAR CONCEITOS DA PROXIMIDADE DE LEVENSHTEIN PARA VERIFICAR A PROXIMIDADE ENTRE\n",
        "                        #DUAS STRINGS E DETERMINAR SOBRE QUAL DROGA SE TRATA, UTILIZAMOS AQUI UM LIMIAR DE PROXIMIDADE DE 85%, O RESTATNTE O PROCESSO\n",
        "                        #PERMANECE O MESMO DOS CASOS 1 E 2\n",
        "                        drug1_fuzzy_matches, drug2_fuzzy_matches = match_drug_fuzzy(drug1_generic, df_interactions, fuzzy_threshold)\n",
        "\n",
        "                        for drug1_fuzzy, score1 in drug1_fuzzy_matches:\n",
        "                            for drug2_fuzzy, score2 in drug2_fuzzy_matches:\n",
        "                                interaction = df_interactions[((df_interactions['cleaned_drug1_name'] == drug1_fuzzy) &\n",
        "                                                               (df_interactions['cleaned_drug2_name'] == drug2_fuzzy)) |\n",
        "                                                              ((df_interactions['cleaned_drug1_name'] == drug2_fuzzy) &\n",
        "                                                               (df_interactions['cleaned_drug2_name'] == drug1_fuzzy))]\n",
        "                                if not interaction.empty and drug1_generic and drug2_generic:\n",
        "                                    interaction_pair_fuzzy = tuple(sorted([drug1_generic, drug2_generic]))\n",
        "                                    if interaction_pair_fuzzy not in seen_interactions:\n",
        "                                        seen_interactions.add(interaction_pair_fuzzy)\n",
        "                                        interactions.append({\n",
        "                                            'hadm_id': hadm_id,\n",
        "                                            'drug1': drug1_generic,\n",
        "                                            'drug2': drug2_generic,\n",
        "                                            'interaction_type': interaction['interaction_type'].values[0],\n",
        "                                            'fuzzy_match_drug1': drug1_fuzzy,\n",
        "                                            'fuzzy_match_drug2': drug2_fuzzy,\n",
        "                                            'fuzzy_score_drug1': score1,\n",
        "                                            'fuzzy_score_drug2': score2,\n",
        "                                            'match_type': 'fuzzy'\n",
        "                                        })\n",
        "\n",
        "    return interactions\n",
        "\n",
        "#INICIALIZA UMA LISTA PARA ARMAZENAR TODAS AS INTERAÇÕES ENCONTRADAS\n",
        "all_interactions = []\n",
        "\n",
        "# OBTÉM A LISTA DE ID'S ÚNICOS DE ADMISSÕES (hadm_id) A PARTIR DO DATAFRAME LIMPO DE PRESCRIÇÕES\n",
        "hadm_ids = df_prescriptions_cleaned['hadm_id'].unique()\n",
        "\n",
        "#UTILIZA O SWIFTER PARA APLICAR A FUNÇÃO check_interactions_for_admission EM PARALELO\n",
        "#ISSO AUMENTA A EFICIÊNCIA DO CÓDIGO, PERMITINDO QUE A FUNÇÃO SEJA EXECUTADA SIMULTANEAMENTE EM VÁRIAS LINHAS\n",
        "#CADA ID DE ADMISSÃO (hadm_id) É PASSADO PARA A FUNÇÃO, QUE RETORNA AS INTERAÇÕES RELACIONADAS\n",
        "all_interactions = pd.DataFrame(hadm_ids).swifter.apply(\n",
        "    lambda x: check_interactions_for_admission(x[0], df_prescriptions_cleaned, df_interactions_cleaned, fuzzy_threshold=100),\n",
        "    axis=1\n",
        ")\n",
        "\n",
        "#CONVERTE AS ITERAÇÕES EM UM DATAFRAME\n",
        "df_interactions_found = pd.DataFrame([interaction for sublist in all_interactions for interaction in sublist])\n",
        "\n",
        "#SALVANDO OS RESULTADOS EM UM ARQUIVO CSV\n",
        "df_interactions_found.to_csv('patient_drug_interactions.csv', index=False)\n",
        "\n",
        "#IMPLEMENTANDO UMA FUNÇÃO PARA AGRUPAR O NÚMERO DE INTERAÇÕES ENCONTRADAS\n",
        "def count_interactions_by_type(df_interactions):\n",
        "    interaction_counts = df_interactions['interaction_type'].value_counts().reset_index()\n",
        "    interaction_counts.columns = ['interaction_type', 'count']\n",
        "    return interaction_counts\n",
        "\n",
        "\n",
        "#CONTABILIZA O NÚMERO DE INTERAÇÕES ENCONTRADAS POR TIPO\n",
        "interaction_counts = count_interactions_by_type(df_interactions_found)\n",
        "\n",
        "#SALVA A CONTAGEM DE ITERAÇÕES EM OUTRO ARQUIVO CSV\n",
        "interaction_counts.to_csv('interaction_type_counts.csv', index=False)\n",
        "\n",
        "print(\"Number of interactions by type:\")\n",
        "print(interaction_counts)"
      ]
    }
  ],
  "metadata": {
    "colab": {
      "provenance": []
    },
    "kernelspec": {
      "display_name": "Python 3",
      "language": "python",
      "name": "python3"
    },
    "language_info": {
      "codemirror_mode": {
        "name": "ipython",
        "version": 3
      },
      "file_extension": ".py",
      "mimetype": "text/x-python",
      "name": "python",
      "nbconvert_exporter": "python",
      "pygments_lexer": "ipython3",
      "version": "3.11.9"
    }
  },
  "nbformat": 4,
  "nbformat_minor": 0
}