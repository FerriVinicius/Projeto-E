{
  "cells": [
    {
      "cell_type": "markdown",
      "metadata": {
        "id": "view-in-github",
        "colab_type": "text"
      },
      "source": [
        "<a href=\"https://colab.research.google.com/github/FerriVinicius/Projeto-E/blob/main/G6_PROJETO_E.ipynb\" target=\"_parent\"><img src=\"https://colab.research.google.com/assets/colab-badge.svg\" alt=\"Open In Colab\"/></a>"
      ]
    },
    {
      "cell_type": "code",
      "execution_count": 1,
      "metadata": {
        "id": "hiQBi1TEYtxn"
      },
      "outputs": [],
      "source": [
        "import pandas as pd\n",
        "import numpy as np\n",
        "import matplotlib.pylab as plt\n",
        "import seaborn as sns\n",
        "plt.style.use('ggplot')"
      ]
    },
    {
      "cell_type": "code",
      "execution_count": 4,
      "metadata": {
        "id": "BatsWrNaYtxo"
      },
      "outputs": [],
      "source": [
        "df = pd.read_csv(\"https://raw.githubusercontent.com/FerriVinicius/Projeto-E/refs/heads/main/PRESCRIPTIONS.csv\")\n",
        "df2 = pd.read_csv(\"https://raw.githubusercontent.com/FerriVinicius/Projeto-E/refs/heads/main/ADMISSIONS.csv\")"
      ]
    },
    {
      "cell_type": "code",
      "execution_count": null,
      "metadata": {
        "colab": {
          "base_uri": "https://localhost:8080/"
        },
        "id": "GhsCKnJBYtxp",
        "outputId": "bd685fd3-9be7-4ce1-d561-a332dac6f708"
      },
      "outputs": [
        {
          "output_type": "stream",
          "name": "stdout",
          "text": [
            "\"row_id\"\n",
            "\"subject_id\"\n",
            "\"hadm_id\"\n",
            "\"icustay_id\"\n",
            "\"startdate\"\n",
            "\"enddate\"\n",
            "\"drug_type\"\n",
            "\"drug\"\n",
            "\"drug_name_poe\"\n",
            "\"drug_name_generic\"\n",
            "\"formulary_drug_cd\"\n",
            "\"gsn\"\n",
            "\"ndc\"\n",
            "\"prod_strength\"\n",
            "\"dose_val_rx\"\n",
            "\"dose_unit_rx\"\n",
            "\"form_val_disp\"\n",
            "\"form_unit_disp\"\n",
            "\"route\"\n"
          ]
        }
      ],
      "source": [
        "for col in df.columns:\n",
        "    print(f'\"{col}\"')"
      ]
    },
    {
      "cell_type": "code",
      "execution_count": 5,
      "metadata": {
        "id": "cH5PQO2tYtxq"
      },
      "outputs": [],
      "source": [
        "df = df[[#'row_id',\n",
        "            'subject_id',\n",
        "            'hadm_id', #'icustay_id',\n",
        "            'startdate', 'enddate',\n",
        "            'drug_type', 'drug', 'drug_name_poe', 'drug_name_generic',\n",
        "            'formulary_drug_cd',\n",
        "            'gsn', #'ndc',\n",
        "            'prod_strength', 'dose_val_rx',\n",
        "            'dose_unit_rx', #'form_val_disp', 'form_unit_disp',\n",
        "            'route'\n",
        "            ]].copy()\n",
        "\n",
        "df2 = df2[[#'row_id',\n",
        "            'subject_id', 'hadm_id', 'admittime', 'dischtime',\n",
        "            'deathtime', 'admission_type', #'admission_location',\n",
        "            #'discharge_location', 'insurance', 'language', 'religion',\n",
        "            #'marital_status', 'ethnicity', 'edregtime', 'edouttime', 'diagnosis',\n",
        "            #'hospital_expire_flag', 'has_chartevents_data'\n",
        "            ]].copy()"
      ]
    },
    {
      "cell_type": "code",
      "execution_count": 6,
      "metadata": {
        "id": "6Bmm_FfzYtxr"
      },
      "outputs": [],
      "source": [
        "df = df.rename(columns={'subject_id':\"ID_Patient\",\n",
        "                            'hadm_id':'ID_medical_record',\n",
        "                            'startdate':\"Start_date\",\n",
        "                            'enddate':\"End_date\",\n",
        "                            'drug_type':'Drug_type',\n",
        "                            'drug':'Popular_drug_name',\n",
        "                            'drug_name_poe':'Commercial_drug_name',\n",
        "                            'drug_name_generic':'Generic_drug_name',\n",
        "                            'formulary_drug_cd':'Drug_code',\n",
        "                            'prod_strength':\"Dose_strength\",\n",
        "                            'dose_val_rx':'Dose_value',\n",
        "                            'dose_unit_rx':\"Dose_unit\",\n",
        "                            'route':'Administration'})"
      ]
    },
    {
      "cell_type": "code",
      "execution_count": 7,
      "metadata": {
        "id": "U75H7e3MYtxr"
      },
      "outputs": [],
      "source": [
        "df[\"Start_date\"] = pd.to_datetime(df[\"Start_date\"])\n",
        "df[\"End_date\"] = pd.to_datetime(df[\"End_date\"])"
      ]
    },
    {
      "cell_type": "code",
      "execution_count": null,
      "metadata": {
        "colab": {
          "base_uri": "https://localhost:8080/",
          "height": 447
        },
        "id": "l3ynAVurYtxs",
        "outputId": "ab624467-9230-4655-eb67-73c51caa6868"
      },
      "outputs": [
        {
          "output_type": "execute_result",
          "data": {
            "text/plain": [
              "<Axes: ylabel='Drug_code'>"
            ]
          },
          "metadata": {},
          "execution_count": 19
        },
        {
          "output_type": "display_data",
          "data": {
            "text/plain": [
              "<Figure size 640x480 with 1 Axes>"
            ],
            "image/png": "[encoded data removed]"
          },
          "metadata": {}
        }
      ],
      "source": [
        "df[\"Drug_code\"].value_counts().head(30).sort_values().plot(kind=\"barh\", )\n"
      ]
    },
    {
      "cell_type": "code",
      "execution_count": null,
      "metadata": {
        "colab": {
          "base_uri": "https://localhost:8080/"
        },
        "id": "Sc0nNPQgYtxs",
        "outputId": "75c6fcb9-aec5-4b3b-de32-55c7ad3a8e93"
      },
      "outputs": [
        {
          "output_type": "execute_result",
          "data": {
            "text/plain": [
              "array(['PNEU25I', 'BISA5', 'BISA10R', 'SENN187', 'DOCU100L', 'HEPA5I',\n",
              "       'SIMV10', 'ASA81', 'DONE5', 'GABA100', 'MEMA5', 'TOLT1', 'TOPR25',\n",
              "       'TAMS.4', 'DOCU100', 'NACLFLUSH', 'GUAI10', 'ALBU17H', 'AMLO5',\n",
              "       'FINA5', 'LEVO75', 'TIOT', 'ASA325', 'ZITHR250', 'PRED20',\n",
              "       'SODI65S', 'HEPA10SYR', 'MVI', 'FERR325', 'IPRA2H', 'ALBU3H',\n",
              "       'SERT100', 'SIMV40', 'LEVO100', 'ALLO100', 'PANT40', 'FURO40I',\n",
              "       'CARV3125', 'METO25', 'METO5I', 'LACT30L', 'RIFA200', 'FENT2.550',\n",
              "       'MIDA100', 'PROP100IG', 'ATRO1I', 'CHLO15L', 'IPRAPF',\n",
              "       'PROAIR8.5H', 'MORP2I', 'NS451000', 'VIAL', 'NS500', 'VANCOBASE',\n",
              "       'NS/MBP100I', 'METRBASE', 'D5W100', 'D5W250', 'NS1000', 'MORPD5W',\n",
              "       'PANT40I', 'VANC1F', 'CEFE2I', 'METR500PM', 'CEFE1I', 'FURO100I',\n",
              "       'LEVO4I', 'MORP100PM', 'PERC', 'PARO10', 'ASCO500', 'CREO10',\n",
              "       'ACET325', 'ONDAN4I', 'DIPH25', 'CIPR500', 'GLYC17', 'MAG2PM',\n",
              "       'NEUT', 'MORP15', 'ACET20/4I', 'MORP30', 'MORP4I', 'ALBU25',\n",
              "       'VALS160', 'CAL1250', 'MORPIM', 'MICO2P', 'ALBU5500', 'KAYE15L',\n",
              "       'CALG1I', 'ALBU5250', 'D545NS1000', 'LR1000', 'D5NS1000', 'SW50',\n",
              "       'NS250', 'HESPBASE', 'KPHO45I', 'HESP500I', 'INFV', 'DEX50SY',\n",
              "       'CALC25', 'BENZ100', 'FURO40', 'SPIR25', 'CYAN500', 'IMDU60',\n",
              "       'HYDZ50', 'LEV250', 'OLAN5DTB', 'CEFP100', 'HALD5I', 'OLAN2.5',\n",
              "       'OXYC5', 'GLUC1I', 'OMEP20', 'D5W1000', 'HEPBASE', 'HEPPREMIX',\n",
              "       'LISI20', 'GLIP10', 'METO50', 'SEVE800', 'INSULIN', 'MAGO140',\n",
              "       'MAGS1I', 'LINE600', 'KCL20P', 'AMBI5', 'MIDA2I', 'METR500',\n",
              "       'PHYT10I', 'ALTE1I', 'WARF2', 'MOEX7.5', 'SEVE400', 'ATOR20',\n",
              "       'METO10I', 'MICROK10', 'CEFX1F', 'VANCO10I', 'AMP2I', 'UNAS3I',\n",
              "       'VANC500I', 'FRBD50', 'NS50', 'NS100', 'PROC10', 'NAPR250',\n",
              "       'FURO20', 'DRON25', 'TIZA4', 'TRAM50', 'LOVE40I', 'KETR30I',\n",
              "       'MORP1-5', 'COSY25I', 'APAP500', 'TIZA2', 'CAPT125', 'CEFA1F',\n",
              "       'PHEN10I', 'PHEN50I', 'HEPA100SYR', 'DONE10', 'ATOR40', 'ARTTS',\n",
              "       'SINE25250', 'SENN5L', 'FENT2I', 'DEXA4I', 'FLUD100', 'LANS30L',\n",
              "       'CLOP75', 'HYDZ20I', 'DIPH50I', 'IMDU30', 'LISI5', 'ERYT0.5EO',\n",
              "       'FENT50I', 'NORE800SYR', 'DOBPREM', 'LEVO500PM', 'KCL20PM',\n",
              "       'HC100I', 'INHRIV', 'MVI10I', 'ENAL25I', 'KCL40I', 'SYR60ML',\n",
              "       'DOBUBASE', 'LEVOBASE2', 'KCLBASE2', 'HYDRSYR', 'INTR20/250I',\n",
              "       'CLIN1000I', 'D5W50', 'D5W500', 'LEVOBASE', 'ISONACL',\n",
              "       'HEPAPREMIX', 'AZIT500I', 'LEVO250PM', 'FAMO20PM', 'ASA300R',\n",
              "       'TOPR100', 'TOPR50', 'ATEN100', 'ATOR80', 'LEV500', 'MAXIEO',\n",
              "       'CALC100SI', 'ATOR10', 'GABA300', 'SINE10100', 'INNHI', 'HCTZ25',\n",
              "       'ESCI10', 'KETO15I', 'VICODIN', 'LORA5', 'NS100CG', 'KCLBASE',\n",
              "       'CALCG2/100NS', 'KCL10PM', 'METF500', 'ERGO400T', 'FLUT110H',\n",
              "       'CALC500', 'PEPC20', 'ALEN70', 'PRED10', 'LEVE500', 'LEVE250T',\n",
              "       'ZONI25', 'NACL1', 'AMPI500', 'LACT1000R', 'ZONI100', 'PPD',\n",
              "       'MINE30L', 'CEPH500', 'CONJ625V', 'NITR50', 'HC5', 'HYDR10',\n",
              "       'MORP50PCA', 'NEOSI', 'GLYCO4I', 'ACET650L', 'ACET650R', 'HYDZ10',\n",
              "       'TIMO25ES', 'ALPH0.15O', 'LEVO25', 'COMP10I', 'URSO300', 'HYDM4',\n",
              "       'LORA2I', 'MEPE50I', 'LEVA0.63L', 'HYD12.5PCA', 'ROXIOS', 'DOXA1',\n",
              "       'FOLI1', 'PAPAIN2', 'KCL20/1000D51/2NS', 'CEFA10I', 'HYDR1SYR',\n",
              "       'LABE100I', 'HYDR2', 'POTA20', 'ONDA4ODT', 'LORA1', 'LOPE2',\n",
              "       'FRBD100', 'KCL40/1000NS', 'CIPROBASE', 'ZOSY4FPB', 'KCL20I',\n",
              "       'CIPR400PM', 'RANI150', 'ASA81EC', 'WARF0', 'MOM30L', 'CARA1',\n",
              "       'RANI150L', 'GLIP5', 'AMID200', 'RIVA15', 'WARF1', 'NTGBASE',\n",
              "       'MILRBASE', 'D5W250E', 'NTG100PM', 'MILR20PM', 'NICA2.5I',\n",
              "       'AMIO150I', 'DILT500I', 'INRHI', 'ADEN6I', 'PHEN250I', 'LORA20I',\n",
              "       'ASAEC325', 'SINE25100', 'DURA', 'NS250G', 'GLAR100I', 'D5W25',\n",
              "       'NAFC2F', 'ZOSY2.25I', 'ACE500I', 'EPO4I', 'FENT2.5I', 'ATEN25',\n",
              "       'LEVO50', 'T3', 'PHYT5', 'CIPRO400I', 'COSO10O', 'ARTI3.5O',\n",
              "       'ERGO50', 'BIMA.03E', 'CROM4O', 'DONEIND', 'ENO3I', 'ENOX100I',\n",
              "       'NAPH15O', 'ZINC220', 'DILT30', 'TRAZ50', 'DILT60', 'LIDO1I',\n",
              "       'FENT2.5250', 'WARF5', 'LANS30ST', 'REFRESH', 'GLUC2.5XL',\n",
              "       'NESI1.5I', 'FENT10I', 'PRED50', 'COZA25', 'HUMU100I', 'QUIG324',\n",
              "       'DIGO125', 'ISOS20', 'MVITH', 'FLUM500I', 'COMB14.7H', 'SENN15L',\n",
              "       'FERR300L', 'MULT5L', 'MORP1-10', 'MORP2-8', 'DIAZ10I', 'DEXAM20I',\n",
              "       'DEXA10I', 'LABE100', 'LABE200', 'MINX25', 'HYDZ25', 'MINO10',\n",
              "       'CATA1', 'DEXA4', 'DILA100', 'BACTDS', 'NS100G', 'D5W150',\n",
              "       'MANNBASE', 'NITP50I', 'PHEN100I', 'MANN100I', 'FOND2.5I',\n",
              "       'FOND5I', 'DOPABASE', 'DOPA400D', 'CEFX2F', 'CLOP300', 'PRED1ES',\n",
              "       'CIPR250', 'CILO25ES', 'KETO.5ES', 'ADVA250IH', 'TRAZ100', 'HALO5',\n",
              "       'WARF25', 'ENOX120I', 'ZOSY4.5I', 'GEOD80', 'IN73HI', 'LIDX60O',\n",
              "       'METH125I', 'PROP200IG', 'METH40I', 'THIA100', 'CEPACOL1',\n",
              "       'ENOX150I', 'DIAZ10', 'PENV500', 'NEPH1', 'NYST5L', 'EPO40I',\n",
              "       'GGAC5L', 'NTG2O', 'NTG3SL', 'MAAL30L', 'PROM25I', 'FELO2.5',\n",
              "       'PROPLA80', 'PROP10', 'OLAN5', 'LIDO5T', 'QUET25', 'PROP40',\n",
              "       'FURO80', 'TIAZ240', 'D5LR1000', 'PENI2F', 'PENGK3I', 'FERRG325',\n",
              "       'ADVA100/50H', 'LEVOBASE3', 'LEVO750PM', 'VENL75XR', 'LISI10',\n",
              "       'METH5', 'OXYC10', 'MIRT30', 'QUET200', 'OXYB5', 'PHEN100',\n",
              "       'TORS20', 'DOLA12.5I', 'NABC50S', 'FLUCBASE', 'GENTBASE1',\n",
              "       'SW1000BTL', 'BAG50I', 'CEFT1F', 'FLU200PM', 'DAPT500I', 'NABC50I',\n",
              "       'GENT100PM', 'VANCPR', 'ALBU25100I', 'HYDR2I', 'VANC250L',\n",
              "       'ASCOR504L', 'VANC500L', 'ADAL30', 'LATA5OS', 'SIME80', 'LIDO20L',\n",
              "       'HURRSPRAY', 'LEVO200I', 'PROP500IG', 'HYDRO4I', 'ADAL60',\n",
              "       'PIOG15', 'CYAN100', 'KCL40/1000D51/2NS', 'FIOC', 'ALPR25',\n",
              "       'ACY500I', 'PENGK5I', 'PENV250', 'ENOX80I', 'ACEB200', 'LID2J',\n",
              "       'DIAZ5', 'NTG4SL', 'PRAV20', 'MAGN400', 'DIAZ2', 'INDO25',\n",
              "       'MIDA50I', 'NICO14P', 'METO10', 'SUMA6V', 'MAAL148', 'CINA30',\n",
              "       'QUIN20', 'BACL10', 'TACR1', 'TACR0.5', 'LIEPI20I', 'FENT50P',\n",
              "       'MERO500I', 'TOBR80I', 'ERTA1I', 'MYCO2C', 'METH10', 'METL5',\n",
              "       'VECU10I', 'ACE250', 'PHEN30', 'PB30EL', 'PB15', 'PHENY100L',\n",
              "       'SCOP15P', 'GLYC1I', 'PB60I', 'KCL20/1000NS', 'SOLN',\n",
              "       'KCL20/1000D5NS', 'PHEN130I', 'PHEN100IVPB', 'FOSP100I',\n",
              "       'LEVE500I', 'NEBU2500I', 'SARNL', 'DIGO.5I', 'PHEN50', 'LIDO100S',\n",
              "       'CAPT25', 'GOLY4L', 'LIDOBASE', 'DOPA400PM', 'VASO20I', 'CEFT2F',\n",
              "       'LIDE4500I', 'NTG100PB', 'CILOS100', 'SALM50D', 'MORPH100',\n",
              "       'FLUC200', 'DANA200', 'ACYC200', 'HYDU500', 'PEPT240L', 'VITE400',\n",
              "       'VANC125L', 'MORP2-4', 'BIAX500', 'ETHA400', 'RIFA300', 'ISON300',\n",
              "       'PYRI100', 'PYRA500', 'MORP2-6', 'RIFA600I', 'FENTSOLN',\n",
              "       'CISA200I', 'FENT20I', nan, 'ACETNEB', 'CISA10I', 'MORP0.5-4',\n",
              "       'ENOX60I', 'DITU4L', 'DOLAS100', 'CODE30', 'DIPH125L', 'AUGM500',\n",
              "       'GLYB25', 'NYSTO', 'CIME300', 'GLYB5', 'FLUCBASE2', 'FLUCO400PM',\n",
              "       'TAXO30I', 'CARB450I', 'TAXO80I', 'SW3000', 'SYRG1', 'D5W250G',\n",
              "       'STER50I', '1/2NS250I', 'VALGA450', 'BACTSS', 'TACRSUSP',\n",
              "       'LAMI100', 'TACR0', 'HBIG5I', 'MYCO200/1L', 'PRED25', 'PRED5',\n",
              "       'CALC667', 'MPRED5I', 'MYCO500I', 'SIMU20I', 'MPREDSYR',\n",
              "       'GANC500I', 'NITR50I', 'EPOP5I', 'NORMOCARB', 'CAGLMEQ',\n",
              "       'NACL23.4I', 'NACL4I', 'MERO1I', 'NITRO1O', 'GLUC5XL', 'DIGO25',\n",
              "       'CLON1', 'CLON5', 'TRIF12.5I', 'SOLN3', 'ATROP1I', '0.45NS3000I',\n",
              "       'SW3000I', 'OCTR100I', 'DARV100', 'MIDA5I', 'HALO1', 'THIAM100I',\n",
              "       'SIRO1', 'NAPH15I', 'SIRO2L', 'MSCO30', 'NS150', 'ERYT500I',\n",
              "       'CAND4', 'GENT80I', 'ESMO2.5PM', 'CISA20I', 'ESMOBASE', 'CABE0.5',\n",
              "       'MIDO5', 'BACT10I', 'TIMO5ES', 'MABELI120', 'FENTSOLN50',\n",
              "       'MUCOM20', 'PRISMAB32K25000', 'D5W3000', 'HYPNSCL3', 'NS3000',\n",
              "       'EPI1I', 'SW1000', 'SOLU', 'MPRED1I', 'METH10SY', 'METD10',\n",
              "       'IBU5S', 'METO10L', 'BACT20L', 'CLIN75L', 'PSEU30', 'CITA20',\n",
              "       'DICL250', 'METD5', 'AMP50I', 'NADO20', 'OCTR0.1I', 'ERY1I',\n",
              "       'OCTR50I', 'HEP10I', 'AMP', 'MONT10', 'FLUT110HFA', 'FPS45L',\n",
              "       'PARO20', 'ANUS1O', 'LINEBASE', 'LINE600I', 'FENT75P', 'DILHP50I',\n",
              "       'GENT120PM', 'GENTBASE2', 'GENT80PM', 'ESMO100I', 'EPIS10I',\n",
              "       'LEVO175', 'CIPR200I', 'SERT50', 'DEME300', 'OXYCO5L', 'ESMOB100',\n",
              "       'CLIN9000I', 'ESMO2PM', 'CLON1P', 'METH8', 'VIOK', 'ATEN50',\n",
              "       'MORPCONC', 'LEVS125', 'PROC5', 'DIPH25L', 'METF500XR',\n",
              "       'NITR20SYR', 'PHEN12SYR', 'HUMA75/25I', 'CYPR4', 'TOLT2',\n",
              "       'ASCO500L', 'MOR10L', 'FENT100P', 'MORP5I', 'GABA250L', 'DULO30',\n",
              "       'MIRT15', 'LEVO100I', 'CREON12', 'ACET1000I', 'CAPS25C',\n",
              "       'ACETSOLN', 'FLEETEN', 'MIRT15SOL', 'LEVO750', 'PANC5000',\n",
              "       'SODI650', 'PHOS250', 'BAG50', 'CEFE1000I', 'NORE8/250', 'PARO10L',\n",
              "       'MSCO15', 'PARO30', 'NOREBASE', 'DULO20', 'FENT25P', 'NS250B',\n",
              "       'KCL20/1000D5W', 'PANT40IVPB', 'HEPA10000/5I', 'INFL0.5LF',\n",
              "       'NALO4I', 'LIDO2/5J', 'SPIR100', 'GUAI10L', 'MYC30O', 'ENAL10',\n",
              "       'DILT90', 'CLON3P', 'KCL40/1000D5W', 'CEFT2I', 'MBLU1I', 'DESI30O',\n",
              "       'HALO05', 'OLAN10I', 'LIDPF2I', 'LEVE100L', 'SUCC20I', 'ETOM2I',\n",
              "       'EPIDBAG250', 'HYDR2PF', 'BUPI0.1EPD', 'HEP1I', 'SODCIT3SYR',\n",
              "       'MIDO25', 'NYSTC', 'RISP1', 'ASCO250', 'PHYT2L', 'PRISMAB22K45000',\n",
              "       'ACD3/1000I', 'FOLI5I', 'FOSI40', 'ROSU5', 'MECL125', 'IMIP25',\n",
              "       'VERA240SR', 'DIVA250ER', 'DIVA125SP', 'MOXI0.5ES', 'PENT300H',\n",
              "       'D5W', 'ALLO300', 'ALTE1/5I', 'COLL30O', 'LIDO15AM', 'NALO3L',\n",
              "       'DAPS100', 'NALO6L', 'ATOV750S', 'METH12I', 'THOR25', 'THOR25I',\n",
              "       'SYRINGENS', 'STLTP', 'DOXY100C', 'CLOT10', 'ALPR1', 'MAGCITL',\n",
              "       'GELCLAIR', 'PREG25', 'PREG75', 'CHEMOSYR', 'RITU500I', 'ONDA4I',\n",
              "       'ETOP100I', 'CYCL1I', 'DOXO50I', 'VINC2I', 'LEU100I', 'GCSF300I',\n",
              "       'METH1I', 'ALTE1/2I', 'CYTA100I', 'HYDRO100I', 'GAMML10I',\n",
              "       'GCSF480I', 'DOXY100I', 'IVIGBAG', 'RASB1.5I', 'DEXA100I',\n",
              "       'MESNA1I', 'MTX50I', 'SYRINGE5', 'FLUT16N', 'ALUMI30L', 'POLYEO',\n",
              "       'GABA400', 'NORT10', 'NORT25', 'LEUC5', 'LEUC25', 'CAPH15L',\n",
              "       'BUPI75I', 'BACI15O', 'FOLI1I', 'LIDPF1I', 'MEGE400L', 'OCTR500S',\n",
              "       'THIO25', 'TIAZ120', 'LEVO112', 'CARB100XR', 'CLOT130C', 'FENT12P',\n",
              "       'THEO80LQ', 'NICA40PM', 'NICABAGSODCHL'], dtype=object)"
            ]
          },
          "metadata": {},
          "execution_count": 20
        }
      ],
      "source": [
        "df[\"Drug_code\"].unique()\n",
        "\n",
        "#or:\n",
        "\n",
        "#Drugs = [ ]\n",
        "#for code in df[\"Drug_code\"]:\n",
        "#    if code not in Drugs:\n",
        "#        Drugs.append(code)\n",
        "#print(Drugs)"
      ]
    },
    {
      "cell_type": "code",
      "execution_count": 8,
      "metadata": {
        "colab": {
          "base_uri": "https://localhost:8080/"
        },
        "id": "nvVlQW74Ytxs",
        "outputId": "cd476e40-6bd1-4ded-d84c-5430203af823"
      },
      "outputs": [
        {
          "output_type": "stream",
          "name": "stdout",
          "text": [
            "    ID_Patient  prescription_count\n",
            "0        10064                  15\n",
            "1        42458                  15\n",
            "2        44222                  19\n",
            "3        42275                  20\n",
            "4        42033                  20\n",
            "..         ...                 ...\n",
            "89       10061                 314\n",
            "90       10124                 315\n",
            "91       10126                 437\n",
            "92       40310                 893\n",
            "93       41976                1158\n",
            "\n",
            "[94 rows x 2 columns]\n"
          ]
        }
      ],
      "source": [
        "#PACIENTES COM MULTIPLAS PRESCRIÇÕES (EM TODAS AS INTERNAÇÕES)\n",
        "\n",
        "prescription_counts = df.groupby('ID_Patient').size().sort_values().reset_index(name='prescription_count')\n",
        "multiple_prescriptions = prescription_counts[prescription_counts['prescription_count'] > 1]\n",
        "print(multiple_prescriptions)"
      ]
    },
    {
      "cell_type": "code",
      "source": [
        "#INTERNAÇÕES COM MULTIPLAS PRESCRIÇÕES (DUAS OU MAIS PODEM PERTENCER AO MESMO PACIENTE)\n",
        "\n",
        "prescription_counts = df.groupby('ID_medical_record').size().sort_values().reset_index(name='prescription_count')\n",
        "multiple_prescriptions = prescription_counts[prescription_counts['prescription_count'] > 1]\n",
        "print(multiple_prescriptions)"
      ],
      "metadata": {
        "colab": {
          "base_uri": "https://localhost:8080/"
        },
        "id": "NjUTya8Xcj3q",
        "outputId": "40281d18-e1bc-4e9c-81ca-c8a181d1b08b"
      },
      "execution_count": 9,
      "outputs": [
        {
          "output_type": "stream",
          "name": "stdout",
          "text": [
            "     ID_medical_record  prescription_count\n",
            "0               175880                  12\n",
            "1               111761                  15\n",
            "2               159647                  15\n",
            "3               131048                  18\n",
            "4               192189                  19\n",
            "..                 ...                 ...\n",
            "117             170883                 244\n",
            "118             139932                 279\n",
            "119             145203                 314\n",
            "120             160445                 437\n",
            "121             186361                 784\n",
            "\n",
            "[122 rows x 2 columns]\n"
          ]
        }
      ]
    },
    {
      "cell_type": "code",
      "source": [
        "#RELAÇÃO DE PACIENTES, ADMISSÕES E QUANTIDADE DE PRESCRIÇÕES MÉDICAS\n",
        "\n",
        "admissions_per_patient = df.groupby('ID_Patient')['ID_medical_record'].nunique()\n",
        "admissions_per_patient.columns = ['ID_Patient', 'Admissions_count']\n",
        "prescriptions_per_patient = df.groupby('ID_Patient').size().reset_index(name='Prescriptions_count')\n",
        "#patient_info = pd.merge(admissions_per_patient, prescriptions_per_patient, on='ID_Patient').sort_values(by='Admissions_count', ascending=False)\n",
        "patients_admission_info = pd.merge(admissions_per_patient, prescriptions_per_patient, on='ID_Patient').sort_values(by='Prescriptions_count', ascending=False)\n",
        "print(patients_admission_info)"
      ],
      "metadata": {
        "colab": {
          "base_uri": "https://localhost:8080/"
        },
        "id": "8anjINcr5icI",
        "outputId": "2be32004-aa31-4e22-810a-f0bdb94a52f5"
      },
      "execution_count": 10,
      "outputs": [
        {
          "output_type": "stream",
          "name": "stdout",
          "text": [
            "    ID_Patient  ID_medical_record  Prescriptions_count\n",
            "60       41976                 15                 1158\n",
            "50       40310                  2                  893\n",
            "41       10126                  1                  437\n",
            "40       10124                  2                  315\n",
            "19       10061                  1                  314\n",
            "..         ...                ...                  ...\n",
            "62       42033                  1                   20\n",
            "68       42275                  1                   20\n",
            "92       44222                  1                   19\n",
            "20       10064                  1                   15\n",
            "77       42458                  1                   15\n",
            "\n",
            "[94 rows x 3 columns]\n"
          ]
        }
      ]
    },
    {
      "source": [
        "#QUANTIDADE DE FARMACOS DIFERENTES ADMINISTRADOS POR PACIENTE (USANDO CÓDIGO NDC DAS DROGAS)\n",
        "\n",
        "dif_drugs_per_patient = df.groupby('ID_Patient')['gsn'].nunique()\n",
        "dif_drugs_per_patient = dif_drugs_per_patient.reset_index(name='Dif_drugs_count')\n",
        "patients_info = pd.merge(patients_admission_info, dif_drugs_per_patient, on=\"ID_Patient\").sort_values(by='Prescriptions_count', ascending=False)\n",
        "print(patients_info)"
      ],
      "cell_type": "code",
      "metadata": {
        "colab": {
          "base_uri": "https://localhost:8080/"
        },
        "id": "G6LSPukSWAdm",
        "outputId": "5bbd1c65-b454-4a33-fc3e-7af82fc1f96d"
      },
      "execution_count": 11,
      "outputs": [
        {
          "output_type": "stream",
          "name": "stdout",
          "text": [
            "    ID_Patient  ID_medical_record  Prescriptions_count  Dif_drugs_count\n",
            "0        41976                 15                 1158              166\n",
            "1        40310                  2                  893              176\n",
            "2        10126                  1                  437               72\n",
            "3        10124                  2                  315               99\n",
            "4        10061                  1                  314               80\n",
            "..         ...                ...                  ...              ...\n",
            "89       42033                  1                   20               14\n",
            "90       42275                  1                   20               15\n",
            "91       44222                  1                   19               17\n",
            "92       10064                  1                   15                8\n",
            "93       42458                  1                   15               15\n",
            "\n",
            "[94 rows x 4 columns]\n"
          ]
        }
      ]
    },
    {
      "cell_type": "code",
      "source": [
        "#QUANTIDADE DE FARMACOS DIFERENTES ADMINISTRADOS POR PACIENTE (USANDO O NOME POPULAR DAS DROGAS)\n",
        "\n",
        "dif_drugs_per_patient = df.groupby('ID_Patient')['Popular_drug_name'].nunique()\n",
        "dif_drugs_per_patient = dif_drugs_per_patient.reset_index(name='Dif_drugs_count')\n",
        "patients_info = pd.merge(patients_admission_info, dif_drugs_per_patient, on=\"ID_Patient\").sort_values(by='Prescriptions_count', ascending=False)\n",
        "print(patients_info)"
      ],
      "metadata": {
        "colab": {
          "base_uri": "https://localhost:8080/"
        },
        "id": "8cV0G3eoTj-b",
        "outputId": "ded0a9ce-650e-411c-9520-2eca2d2bbcff"
      },
      "execution_count": 12,
      "outputs": [
        {
          "output_type": "stream",
          "name": "stdout",
          "text": [
            "    ID_Patient  ID_medical_record  Prescriptions_count  Dif_drugs_count\n",
            "0        41976                 15                 1158              141\n",
            "1        40310                  2                  893              148\n",
            "2        10126                  1                  437               75\n",
            "3        10124                  2                  315               87\n",
            "4        10061                  1                  314               69\n",
            "..         ...                ...                  ...              ...\n",
            "89       42033                  1                   20               14\n",
            "90       42275                  1                   20               16\n",
            "91       44222                  1                   19               15\n",
            "92       10064                  1                   15                9\n",
            "93       42458                  1                   15               14\n",
            "\n",
            "[94 rows x 4 columns]\n"
          ]
        }
      ]
    },
    {
      "cell_type": "code",
      "source": [
        "######FORTE INCONSISTENCIA ENTRE OS INPUTS DE NOME E CÓDIGO DE DROGAS (ALÉM DE ERRO HUMANO: CODIGOS DIFERENTES PARA DOSAGENS, VIA DE ADMINISTRAÇÃO, ETC.)"
      ],
      "metadata": {
        "id": "Je4_yBJ1ffs4"
      },
      "execution_count": null,
      "outputs": []
    },
    {
      "cell_type": "code",
      "source": [
        "##################################QUANTIDADE DE FARMACOS DIFERENTES ADMINISTRADOS POR PACIENTE (USANDO OS DÍGITOS 5, 6, 7 E 8 DO CÓDIGO NDC\n",
        "#(11 DÍGITOS: 5 PRIMEIROS - FABRICANTE / 4 DO MEIO - IGRENDIENTE, FORÇA, DOSAGEM E MEIO DE ADMINISTRAÇÃO / 2 FINAIS - EMBALAGEM) DAS DROGAS)\n",
        "\n",
        "dif_drugs_per_patient = df.groupby('ID_Patient')['Popular_drug_name'].nunique()\n",
        "dif_drugs_per_patient = dif_drugs_per_patient.reset_index(name='Dif_drugs_count')\n",
        "patients_info = pd.merge(patients_admission_info, dif_drugs_per_patient, on=\"ID_Patient\").sort_values(by='Prescriptions_count', ascending=False)\n",
        "print(patients_info)"
      ],
      "metadata": {
        "id": "aLXcq3xfghQI",
        "colab": {
          "base_uri": "https://localhost:8080/"
        },
        "outputId": "e7563b81-22e9-4148-f985-bd7219286b2e"
      },
      "execution_count": 13,
      "outputs": [
        {
          "output_type": "stream",
          "name": "stdout",
          "text": [
            "    ID_Patient  ID_medical_record  Prescriptions_count  Dif_drugs_count\n",
            "0        41976                 15                 1158              141\n",
            "1        40310                  2                  893              148\n",
            "2        10126                  1                  437               75\n",
            "3        10124                  2                  315               87\n",
            "4        10061                  1                  314               69\n",
            "..         ...                ...                  ...              ...\n",
            "89       42033                  1                   20               14\n",
            "90       42275                  1                   20               16\n",
            "91       44222                  1                   19               15\n",
            "92       10064                  1                   15                9\n",
            "93       42458                  1                   15               14\n",
            "\n",
            "[94 rows x 4 columns]\n"
          ]
        }
      ]
    },
    {
      "cell_type": "code",
      "source": [],
      "metadata": {
        "id": "6_tfyMhh4nY4"
      },
      "execution_count": null,
      "outputs": []
    }
  ],
  "metadata": {
    "kernelspec": {
      "display_name": "Python 3",
      "language": "python",
      "name": "python3"
    },
    "language_info": {
      "codemirror_mode": {
        "name": "ipython",
        "version": 3
      },
      "file_extension": ".py",
      "mimetype": "text/x-python",
      "name": "python",
      "nbconvert_exporter": "python",
      "pygments_lexer": "ipython3",
      "version": "3.11.9"
    },
    "colab": {
      "provenance": [],
      "include_colab_link": true
    }
  },
  "nbformat": 4,
  "nbformat_minor": 0
}